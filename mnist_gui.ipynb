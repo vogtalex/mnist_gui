{
 "cells": [
  {
   "cell_type": "code",
   "execution_count": 1,
   "metadata": {},
   "outputs": [],
   "source": [
    "import sys\n",
    "import os\n",
    "import json\n",
    "\n",
    "import torch\n",
    "import numpy as np\n",
    "import matplotlib.pyplot as plt\n",
    "\n",
    "import time\n",
    "import tkinter as tk\n",
    "from matplotlib.backends.backend_tkagg import FigureCanvasTkAgg"
   ]
  },
  {
   "cell_type": "code",
   "execution_count": 2,
   "metadata": {},
   "outputs": [],
   "source": [
    "import torch\n",
    "import torch.onnx as onnx\n",
    "import torchvision.models as models\n",
    "import torch.nn as nn\n",
    "from torch.utils.data import DataLoader\n",
    "import torch.nn.functional as F\n",
    "import torch.optim as optim\n",
    "from torchvision import datasets, transforms\n",
    "import numpy as np\n",
    "import matplotlib.pyplot as plt\n",
    "import torchvision"
   ]
  },
  {
   "cell_type": "code",
   "execution_count": 3,
   "metadata": {},
   "outputs": [],
   "source": [
    "import tkinter as tk\n",
    "from tkinter import *"
   ]
  },
  {
   "cell_type": "code",
   "execution_count": 4,
   "metadata": {},
   "outputs": [],
   "source": [
    "from PIL import Image, ImageTk"
   ]
  },
  {
   "cell_type": "code",
   "execution_count": 5,
   "metadata": {},
   "outputs": [],
   "source": [
    "import pathlib\n",
    "from pathlib import Path\n",
    "from functools import partial"
   ]
  },
  {
   "cell_type": "code",
   "execution_count": 6,
   "metadata": {},
   "outputs": [],
   "source": [
    "class Net(nn.Module):\n",
    "    def __init__(self):\n",
    "        super(Net, self).__init__()\n",
    "        self.conv1 = nn.Conv2d(1, 10, kernel_size=5)\n",
    "        self.conv2 = nn.Conv2d(10, 20, kernel_size=5)\n",
    "        self.conv2_drop = nn.Dropout2d()\n",
    "        self.fc1 = nn.Linear(320, 50)\n",
    "        self.fc2 = nn.Linear(50, 10)\n",
    "\n",
    "    def forward(self, x):\n",
    "        x = F.relu(F.max_pool2d(self.conv1(x), 2))\n",
    "        x = F.relu(F.max_pool2d(self.conv2_drop(self.conv2(x)), 2))\n",
    "        x = x.view(-1, 320)\n",
    "        x = F.relu(self.fc1(x))\n",
    "        x = F.dropout(x, training=self.training)\n",
    "        x = self.fc2(x)\n",
    "        return F.log_softmax(x, dim=1)"
   ]
  },
  {
   "cell_type": "code",
   "execution_count": 7,
   "metadata": {},
   "outputs": [
    {
     "name": "stderr",
     "output_type": "stream",
     "text": [
      "C:\\Users\\Alex Vogt\\AppData\\Local\\Programs\\Python\\Python36\\lib\\site-packages\\torchvision\\datasets\\mnist.py:498: UserWarning: The given NumPy array is not writeable, and PyTorch does not support non-writeable tensors. This means you can write to the underlying (supposedly non-writeable) NumPy array using the tensor. You may want to copy the array to protect its data or make it writeable before converting it to a tensor. This type of warning will be suppressed for the rest of this program. (Triggered internally at  ..\\torch\\csrc\\utils\\tensor_numpy.cpp:180.)\n",
      "  return torch.from_numpy(parsed.astype(m[2], copy=False)).view(*s)\n"
     ]
    }
   ],
   "source": [
    "training_data = torchvision.datasets.MNIST(\n",
    "    '/files/',\n",
    "    train=True,\n",
    "    download=True,\n",
    "    transform=torchvision.transforms.Compose([torchvision.transforms.ToTensor(),\n",
    "                                              torchvision.transforms.Normalize((0.1307,), (0.3081,))]\n",
    "                                             )\n",
    ")\n",
    "\n",
    "test_loader = torch.utils.data.DataLoader(\n",
    "    datasets.MNIST('../data', train=False, download=True, transform=transforms.Compose([\n",
    "            transforms.ToTensor(),\n",
    "            ])),\n",
    "        batch_size=1, shuffle=True)"
   ]
  },
  {
   "cell_type": "code",
   "execution_count": 8,
   "metadata": {},
   "outputs": [],
   "source": [
    "train_dataloader = DataLoader(training_data, 64, shuffle=True)\n",
    "epochs = 3\n",
    "learning_rate = 0.01\n",
    "momentum = 0.5\n",
    "log_interval = 10\n",
    "batch_size = 64\n",
    "\n",
    "random_seed = 1\n",
    "torch.backends.cudnn.enabled = False\n",
    "torch.manual_seed(random_seed)\n",
    "\n",
    "pretrained_model = \"model_weights.pth\""
   ]
  },
  {
   "cell_type": "code",
   "execution_count": 9,
   "metadata": {},
   "outputs": [],
   "source": [
    "epsilons = [0, .05, .1, .15, .2, .25, .3]\n",
    "use_cuda=True"
   ]
  },
  {
   "cell_type": "code",
   "execution_count": 10,
   "metadata": {},
   "outputs": [
    {
     "name": "stdout",
     "output_type": "stream",
     "text": [
      "CUDA Available:  False\n"
     ]
    }
   ],
   "source": [
    "print(\"CUDA Available: \",torch.cuda.is_available())\n",
    "device = torch.device(\"cuda\" if (use_cuda and torch.cuda.is_available()) else \"cpu\")\n",
    "# Initialize the network\n",
    "model = Net()\n",
    "model.load_state_dict(torch.load(pretrained_model))\n",
    "\n",
    "model2 = Net().to(device)\n",
    "\n",
    "loss_fn = nn.CrossEntropyLoss()\n",
    "optimizer = optim.SGD(model.parameters(), lr=0.001, momentum=0.9)"
   ]
  },
  {
   "cell_type": "code",
   "execution_count": 11,
   "metadata": {},
   "outputs": [],
   "source": [
    "# FGSM attack code\n",
    "def fgsm_attack(image, epsilon, data_grad):\n",
    "    # Collect the element-wise sign of the data gradient\n",
    "    sign_data_grad = data_grad.sign()\n",
    "    # Create the perturbed image by adjusting each pixel of the input image\n",
    "    perturbed_image = image + epsilon*sign_data_grad\n",
    "    # Adding clipping to maintain [0,1] range\n",
    "    perturbed_image = torch.clamp(perturbed_image, 0, 1)\n",
    "    # Return the perturbed image\n",
    "    return perturbed_image"
   ]
  },
  {
   "cell_type": "code",
   "execution_count": 13,
   "metadata": {},
   "outputs": [],
   "source": [
    "def test(model, device, test_loader, epsilon):\n",
    "\n",
    "    # Accuracy counter\n",
    "    correct = 0\n",
    "    adv_examples = []\n",
    "\n",
    "    # Loop over all examples in test set\n",
    "    for data, target in test_loader:\n",
    "\n",
    "        # Send the data and label to the device\n",
    "        data, target = data.to(device), target.to(device)\n",
    "\n",
    "        # Set requires_grad attribute of tensor. Important for Attack\n",
    "        data.requires_grad = True\n",
    "\n",
    "        # Forward pass the data through the model\n",
    "        output = model(data)\n",
    "        # get the index of the max log-probability\n",
    "        init_pred = output.max(1, keepdim=True)[1]\n",
    "\n",
    "        # If the initial prediction is wrong, dont bother attacking, just move on\n",
    "        if init_pred.item() != target.item():\n",
    "            continue\n",
    "\n",
    "        # Calculate the loss\n",
    "        loss = F.nll_loss(output, target)\n",
    "\n",
    "        # Zero all existing gradients\n",
    "        model.zero_grad()\n",
    "\n",
    "        # Calculate gradients of model in backward pass\n",
    "        loss.backward()\n",
    "\n",
    "        # Collect datagrad\n",
    "        data_grad = data.grad.data\n",
    "\n",
    "        # Call FGSM Attack\n",
    "        perturbed_data = fgsm_attack(data, epsilon, data_grad)\n",
    "\n",
    "        # Re-classify the perturbed image\n",
    "        output = model(perturbed_data)\n",
    "\n",
    "        # Check for success\n",
    "        # get the index of the max log-probability\n",
    "        final_pred = output.max(1, keepdim=True)[1]\n",
    "        if final_pred.item() == target.item():\n",
    "            correct += 1\n",
    "            # Special case for saving 0 epsilon examples\n",
    "            if (epsilon == 0) and (len(adv_examples) < 50):\n",
    "                adv_ex = perturbed_data.squeeze().detach().cpu().numpy()\n",
    "                adv_examples.append(\n",
    "                    (init_pred.item(), final_pred.item(), adv_ex))\n",
    "        else:\n",
    "            # Save some adv examples for visualization later\n",
    "            if len(adv_examples) < 500:\n",
    "                adv_ex = perturbed_data.squeeze().detach().cpu().numpy()\n",
    "                adv_examples.append(\n",
    "                    (init_pred.item(), final_pred.item(), adv_ex))\n",
    "\n",
    "    # Calculate final accuracy for this epsilon\n",
    "    final_acc = correct/float(len(test_loader))\n",
    "    print(\"Epsilon: {}\\tTest Accuracy = {} / {} = {}\".format(epsilon,\n",
    "          correct, len(test_loader), final_acc))\n",
    "\n",
    "    # Return the accuracy and an adversarial example\n",
    "    return final_acc, adv_examples"
   ]
  },
  {
   "cell_type": "code",
   "execution_count": 14,
   "metadata": {},
   "outputs": [
    {
     "name": "stderr",
     "output_type": "stream",
     "text": [
      "C:\\Users\\Alex Vogt\\AppData\\Local\\Programs\\Python\\Python36\\lib\\site-packages\\torch\\nn\\functional.py:718: UserWarning: Named tensors and all their associated APIs are an experimental feature and subject to change. Please do not use them for anything important until they are released as stable. (Triggered internally at  ..\\c10/core/TensorImpl.h:1156.)\n",
      "  return torch.max_pool2d(input, kernel_size, stride, padding, dilation, ceil_mode)\n"
     ]
    },
    {
     "name": "stdout",
     "output_type": "stream",
     "text": [
      "Epsilon: 0\tTest Accuracy = 9871 / 10000 = 0.9871\n",
      "Epsilon: 0.05\tTest Accuracy = 9410 / 10000 = 0.941\n",
      "Epsilon: 0.1\tTest Accuracy = 8321 / 10000 = 0.8321\n",
      "Epsilon: 0.15\tTest Accuracy = 6446 / 10000 = 0.6446\n",
      "Epsilon: 0.2\tTest Accuracy = 4215 / 10000 = 0.4215\n",
      "Epsilon: 0.25\tTest Accuracy = 2330 / 10000 = 0.233\n",
      "Epsilon: 0.3\tTest Accuracy = 1072 / 10000 = 0.1072\n"
     ]
    }
   ],
   "source": [
    "accuracies = []\n",
    "examples = []\n",
    "model.eval()\n",
    "\n",
    " #Run test for each epsilon\n",
    "for eps in epsilons:\n",
    "    acc, ex = test(model, device, test_loader, eps)\n",
    "    accuracies.append(acc)\n",
    "    examples.append(ex)\n",
    "\n",
    "# epsilon = 0.3\n",
    "# acc, ex = test(model, device, test_loader, eps)\n",
    "# accuracies.append(acc)\n",
    "\n",
    "a, b, c, d, e, f, g = examples;"
   ]
  },
  {
   "cell_type": "code",
   "execution_count": 15,
   "metadata": {},
   "outputs": [
    {
     "data": {
      "image/png": "[encoded data removed]",
      "text/plain": [
       "<Figure size 432x288 with 1 Axes>"
      ]
     },
     "metadata": {
      "needs_background": "light"
     },
     "output_type": "display_data"
    }
   ],
   "source": [
    "label, new_label, image, = d[0]\n",
    "plt.title(\"What is this number?\")\n",
    "plt.imshow(image, cmap=\"gray\")\n",
    "plt.savefig('saved_figure.png')"
   ]
  },
  {
   "cell_type": "code",
   "execution_count": 16,
   "metadata": {},
   "outputs": [],
   "source": [
    "def generateNewImage(count):\n",
    "    label, new_label, image, = d[count]\n",
    "    plt.title(\"What is this number?\")\n",
    "    plt.imshow(image, cmap=\"gray\")\n",
    "    plt.savefig('saved_figure2.png')\n",
    "    # image1 = Image.open(x)\n",
    "    # test1 = ImageTk.PhotoImage(image1)\n",
    "\n",
    "    # label1.configure(image=test)\n",
    "    # label1.image = test\n",
    "\n",
    "    # Label(root, image=test).pack()\n",
    "\n",
    "    #label1.place(x= 0, y= 0)\n",
    "    # label1.pack()\n",
    "    return label\n",
    "    "
   ]
  },
  {
   "cell_type": "code",
   "execution_count": 17,
   "metadata": {},
   "outputs": [],
   "source": [
    "HEIGHT = 200\n",
    "WIDTH = 200\n",
    "IMAGE_HEIGHT = 200\n",
    "IMAGE_WIDTH = 200"
   ]
  },
  {
   "cell_type": "code",
   "execution_count": 18,
   "metadata": {},
   "outputs": [],
   "source": [
    "x = \"/Users/Alex Vogt/Desktop/work-visualization/MNIST_Alex/saved_figure.png\" \n",
    "x2 = \"/Users/Alex Vogt/Desktop/work-visualization/MNIST_Alex/saved_figure2.png\" \n",
    "x3 = \"/Users/Alex Vogt/Desktop/work-visualization/MNIST_Alex/saved_figure3.png\" "
   ]
  },
  {
   "cell_type": "code",
   "execution_count": 19,
   "metadata": {},
   "outputs": [],
   "source": [
    "correctCount = 0\n",
    "totalCount = 0"
   ]
  },
  {
   "cell_type": "code",
   "execution_count": 20,
   "metadata": {},
   "outputs": [],
   "source": [
    "def numClick():\n",
    "    currNum = a.get()\n",
    "    temp = 0\n",
    "    # curr = len(d) - 1\n",
    "    curr = 499\n",
    "    images = []\n",
    "    while temp < 6 and curr > 0:\n",
    "        label, new_label, image = d[curr]\n",
    "        if label == int(currNum):\n",
    "            images.append(image)\n",
    "            temp = temp + 1\n",
    "        curr = curr - 1\n",
    "    \n",
    "    for currIterator in range(6):\n",
    "        print(currIterator)\n",
    "        currImage = images[currIterator]\n",
    "        plt.imshow(currImage, cmap=\"gray\")\n",
    "        plt.savefig('saved_figure3.png')\n",
    "\n",
    "        image1 = Image.open(x3)\n",
    "        test = ImageTk.PhotoImage(image1)\n",
    "        label1 = tk.Label(number_frame, image=test)\n",
    "        label1.image = test\n",
    "        if currIterator < 3:\n",
    "            label1.grid(row=3, column=currIterator, sticky=\"nsew\", padx=2, pady=2)\n",
    "        else:\n",
    "            label1.grid(row=4, column=(currIterator - 3), sticky=\"nsew\", padx=2, pady=2)\n",
    "            \n",
    "\n",
    "\n",
    "    \n",
    "\n",
    "\n",
    "\n",
    "\n",
    "    "
   ]
  },
  {
   "cell_type": "code",
   "execution_count": 21,
   "metadata": {},
   "outputs": [
    {
     "name": "stdout",
     "output_type": "stream",
     "text": [
      "0\n",
      "1\n",
      "2\n",
      "3\n",
      "4\n",
      "5\n",
      "0\n",
      "1\n",
      "2\n",
      "3\n",
      "0\n",
      "1\n",
      "2\n",
      "3\n",
      "4\n",
      "5\n",
      "4\n"
     ]
    },
    {
     "data": {
      "image/png": "[encoded data removed]",
      "text/plain": [
       "<Figure size 432x288 with 1 Axes>"
      ]
     },
     "metadata": {
      "needs_background": "light"
     },
     "output_type": "display_data"
    }
   ],
   "source": [
    "root = Tk()\n",
    "root.title(\"Human Testing of Adversarial Training\")\n",
    "\n",
    "#Setup frames\n",
    "# global image_frame\n",
    "image_frame = tk.Frame(root, background=\"#FFF0C1\", bd=1, relief=\"sunken\")\n",
    "input_frame = tk.Frame(root, background=\"#D2E2FB\", bd=1, relief=\"sunken\")\n",
    "visual_aid_frame = tk.Frame(root, background=\"#CCE4CA\", bd=1, relief=\"sunken\")\n",
    "output_frame = tk.Frame(root, background=\"#F5C2C1\", bd=1, relief=\"sunken\")\n",
    "number_frame = tk.Frame(root, background=\"#0000FF.\", bd=1, relief=\"sunken\")\n",
    "image_frame.grid(row=0, column=0, sticky=\"nsew\", padx=2, pady=2)\n",
    "input_frame.grid(row=1, column=0, sticky=\"nsew\", padx=2, pady=2)\n",
    "visual_aid_frame.grid(row=0, column=1, rowspan=2, sticky=\"nsew\", padx=2, pady=2)\n",
    "output_frame.grid(row=0, column=2, rowspan=2, sticky=\"nsew\", padx=2, pady=2)\n",
    "number_frame.grid(row=0, column=3, rowspan=2, sticky=\"nsew\", padx=2, pady=2)\n",
    "\n",
    "\n",
    "\n",
    "root.grid_rowconfigure(0, weight=3)\n",
    "root.grid_rowconfigure(1, weight=2)\n",
    "root.grid_columnconfigure(0, weight=3)\n",
    "root.grid_columnconfigure(1, weight=2)\n",
    "root.grid_columnconfigure(2, weight=2)\n",
    "root.grid_columnconfigure(3, weight=2)\n",
    "\n",
    "\n",
    "# Create a photoimage object of the image in the path\n",
    "image1 = Image.open(x)\n",
    "test = ImageTk.PhotoImage(image1)\n",
    "\n",
    "# label1 = tk.Label(image_frame, image=test)\n",
    "# label1.image = test\n",
    "\n",
    "Label(image_frame, image=test).grid(row=0, column=0, sticky=\"nsew\", padx=2, pady=2)\n",
    "\n",
    "#label1.place(x= 0, y= 0)\n",
    "#label1.grid(row=0, column=0, sticky=\"nsew\", padx=2, pady=2)\n",
    "\n",
    "e = Entry(input_frame, width=50)\n",
    "e.grid(row=0, column=0, sticky=\"nsew\", padx=2, pady=2)\n",
    "\n",
    "\n",
    "#Function for button\n",
    "def myClick():\n",
    "    global totalCount\n",
    "    global label\n",
    "    currCount = correctCount\n",
    "    newLabel = label\n",
    "    currNum = e.get()\n",
    "    print(totalCount)\n",
    "    if (int(currNum) == newLabel):\n",
    "        currCount = currCount + 1\n",
    "        myLabel = Label(output_frame, text=\"Correct!\")\n",
    "        myLabel.grid(row=0, column=2, rowspan=2, sticky=\"nsew\", padx=2, pady=2)\n",
    "    else: \n",
    "        myLabel2 = Label(output_frame, text=\"Incorrect\")\n",
    "        myLabel2.grid(row=0, column=2, rowspan=2, sticky=\"nsew\", padx=2, pady=2)\n",
    "    #Create new image\n",
    "    label = generateNewImage(totalCount)\n",
    "    image1 = Image.open(x2)\n",
    "    test = ImageTk.PhotoImage(image1)\n",
    "    label1 = tk.Label(image_frame, image=test)\n",
    "    label1.image = test\n",
    "    label1.grid(row=0, column=0, sticky=\"nsew\", padx=2, pady=2)\n",
    "\n",
    "    #Generates new model prediction\n",
    "    stringModel = \"Model Prediction: \"\n",
    "    ga, answer, gar, = d[totalCount]\n",
    "    convAnswer = str(answer)\n",
    "    stringModel = stringModel + convAnswer\n",
    "    def_label = tk.Label(visual_aid_frame, text=stringModel)\n",
    "    def_label.pack(padx=10, pady=5, fill=tk.BOTH)\n",
    "    \n",
    "    #Label(image_frame, image=test).grid(row=1, column=0, sticky=\"nsew\", padx=2, pady=2)\n",
    "    totalCount = totalCount + 1\n",
    "\n",
    "#Adds a Button\n",
    "myButton = Button(input_frame, text=\"Click Me!\", pady=50, command=partial(myClick))\n",
    "myButton.grid(row=1, column=0, sticky=\"nsew\", padx=2, pady=2)\n",
    "\n",
    "#Visual Aid\n",
    "stringModel = \"Model Prediction: \"\n",
    "ga, answer, gar, = d[totalCount]\n",
    "convAnswer = str(answer)\n",
    "stringModel = stringModel + convAnswer\n",
    "def_label = tk.Label(visual_aid_frame, text=stringModel)\n",
    "def_label.pack(padx=10, pady=5, fill=tk.BOTH)\n",
    "\n",
    "#Show number based on user input\n",
    "num_label = tk.Label(number_frame, text=\"What number would you like to see perturbed images of?\")\n",
    "num_label.grid(row=0, column=0, sticky=\"nsew\", padx=2, pady=2)\n",
    "\n",
    "a = Entry(number_frame, width=50)\n",
    "a.grid(row=1, column=0, sticky=\"nsew\", padx=2, pady=2)\n",
    "\n",
    "myButton = Button(number_frame, text=\"Click Me!\", pady=50, command=partial(numClick))\n",
    "myButton.grid(row=2, column=0, sticky=\"nsew\", padx=2, pady=2)\n",
    "\n",
    "\n",
    "# Position image\n",
    "root.mainloop()\n"
   ]
  }
 ],
 "metadata": {
  "interpreter": {
   "hash": "7495678a5423b614518f1e7d37edbca4a8c36210f7349cfc3d660176cd54b7f2"
  },
  "kernelspec": {
   "display_name": "Python 3.6.2 64-bit",
   "language": "python",
   "name": "python3"
  },
  "language_info": {
   "codemirror_mode": {
    "name": "ipython",
    "version": 3
   },
   "file_extension": ".py",
   "mimetype": "text/x-python",
   "name": "python",
   "nbconvert_exporter": "python",
   "pygments_lexer": "ipython3",
   "version": "3.6.2"
  },
  "orig_nbformat": 4
 },
 "nbformat": 4,
 "nbformat_minor": 2
}
